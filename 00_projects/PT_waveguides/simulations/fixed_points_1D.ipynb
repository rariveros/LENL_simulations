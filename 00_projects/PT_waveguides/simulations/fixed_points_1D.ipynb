{
 "cells": [
  {
   "cell_type": "code",
   "execution_count": null,
   "id": "initial_id",
   "metadata": {
    "collapsed": true
   },
   "outputs": [],
   "source": [
    "import matplotlib.pyplot as plt\n",
    "import numpy as np\n",
    "from scipy.integrate import cumulative_trapezoid\n",
    "from scipy.signal import find_peaks\n",
    "\n",
    "gamma_0 = 10.0\n",
    "k = 1.0\n",
    "beta = 0.0\n",
    "d_gamma = 0.0\n",
    "omega = 2.0\n",
    "\n",
    "R = 0.5\n",
    "\n",
    "alpha = 1.0\n",
    "theta = np.arcsin(-beta / k)\n",
    "\n",
    "n1 = 0\n",
    "n2 = 1\n",
    "\n",
    "x_grid = np.arange(0.01, 20, 0.11)\n",
    "\n",
    "# Your function (example form)\n",
    "def F(x, n):\n",
    "    return k * ((1 / x) - x) * (-1)**n + gamma_0 * ((1 / (1 + R**2)) - (1 / (1 + x**2 * R**2)))\n",
    "\n",
    "# Evaluate function\n",
    "f1_vals = F(x_grid, n1)\n",
    "f2_vals = F(x_grid, n2)\n",
    "\n",
    "# Primitive (indefinite integral)\n",
    "primitive1 = cumulative_trapezoid(f1_vals, x_grid, initial=0)\n",
    "primitive2 = cumulative_trapezoid(f2_vals, x_grid, initial=0)\n",
    "\n",
    "# Find local maxima\n",
    "peaks1, _ = find_peaks(primitive1)\n",
    "x1_maxima = x_grid[peaks1]\n",
    "y1_maxima = primitive1[peaks1]\n",
    "\n",
    "peaks2, _ = find_peaks(primitive2)\n",
    "x2_maxima = x_grid[peaks2]\n",
    "y2_maxima = primitive2[peaks2]\n",
    "\n",
    "# Find local minima\n",
    "troughs1, _ = find_peaks(-primitive1)\n",
    "x1_minima = x_grid[troughs1]\n",
    "y1_minima = primitive1[troughs1]\n",
    "\n",
    "troughs2, _ = find_peaks(-primitive2)\n",
    "x2_minima = x_grid[troughs2]\n",
    "y2_minima = primitive2[troughs2]\n",
    "\n",
    "# Print local maxima\n",
    "for x, y in zip(x1_maxima, y1_maxima):\n",
    "    print(f\"Local max (n=0) at x = {x:.4f} → value = {y:.4f}\")\n",
    "for x, y in zip(x2_maxima, y2_maxima):\n",
    "    print(f\"Local max (n=1) at x = {x:.4f} → value = {y:.4f}\")\n",
    "\n",
    "# Print local minima\n",
    "for x, y in zip(x1_minima, y1_minima):\n",
    "    print(f\"Local min (n=0) at x = {x:.4f} → value = {y:.4f}\")\n",
    "for x, y in zip(x2_minima, y2_minima):\n",
    "    print(f\"Local min (n=1) at x = {x:.4f} → value = {y:.4f}\")"
   ]
  }
 ],
 "metadata": {
  "kernelspec": {
   "display_name": "Python 3",
   "language": "python",
   "name": "python3"
  },
  "language_info": {
   "codemirror_mode": {
    "name": "ipython",
    "version": 2
   },
   "file_extension": ".py",
   "mimetype": "text/x-python",
   "name": "python",
   "nbconvert_exporter": "python",
   "pygments_lexer": "ipython2",
   "version": "2.7.6"
  }
 },
 "nbformat": 4,
 "nbformat_minor": 5
}
