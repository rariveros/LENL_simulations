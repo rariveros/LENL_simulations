{
 "cells": [
  {
   "cell_type": "code",
   "id": "initial_id",
   "metadata": {
    "collapsed": true,
    "ExecuteTime": {
     "end_time": "2025-05-20T01:34:19.101142Z",
     "start_time": "2025-05-20T01:34:19.093998Z"
    }
   },
   "source": [
    "import matplotlib.pyplot as plt\n",
    "import numpy as np\n",
    "\n",
    "# DEFINICION DE INTEGRADOR TEMPORAL\n",
    "def RK4_FD(eq, fields, parameters, grids, dt, Nt, operators, t_rate): #implementa rouge-kutta\n",
    "    t_grid = grids[0]\n",
    "    x_grid = grids[1]\n",
    "    y_grid = grids[2]\n",
    "    fields_history = []\n",
    "    time_grid = []\n",
    "    for i in range(Nt - 1):\n",
    "        old_fields = fields\n",
    "        k_1 = equations_FD(eq, old_fields, t_grid[i], x_grid, y_grid, parameters, operators)\n",
    "        k_2 = equations_FD(eq, old_fields + 0.5 * dt * k_1, t_grid[i], x_grid, y_grid, parameters, operators)\n",
    "        k_3 = equations_FD(eq, old_fields + 0.5 * dt * k_2, t_grid[i], x_grid, y_grid, parameters, operators)\n",
    "        k_4 = equations_FD(eq, old_fields + dt * k_3, t_grid[i], x_grid, y_grid, parameters, operators)\n",
    "        new_fields = old_fields + dt * (k_1 + 2 * k_2 + 2 * k_3 + k_4) / 6\n",
    "        fields = new_fields\n",
    "        if i % t_rate == 0:\n",
    "            fields_history.append(fields)\n",
    "            time_grid.append(t_grid[i])\n",
    "    return fields, fields_history, time_grid\n",
    "\n",
    "# DEFINICION DE SISTEMA DE ECUACIONES\n",
    "def equations_FD(eq, field_slices, t_i, x_grid, y_grid, parameters, operators): #ecuaciones\n",
    "    if eq == \"PT_waveguide\":\n",
    "        U = field_slices[0]\n",
    "        V = field_slices[1]\n",
    "\n",
    "        k = parameters[0]\n",
    "        gamma = parameters[1]\n",
    "        alpha = parameters[2]\n",
    "\n",
    "        #F = 1j * ((k - 1j * alpha) * V - gamma * (U / (1 + np.abs(U) ** 2)))\n",
    "        #G = 1j * ((k + 1j * alpha) * U - gamma * (V / (1 + np.abs(V) ** 2)))\n",
    "\n",
    "        F = 1j * (k * V - gamma * (U / (1 + np.abs(U) ** 2)) - 1j * alpha * U)\n",
    "        G = 1j * (k * U - gamma * (V / (1 + np.abs(V) ** 2)) + 1j * alpha * V)\n",
    "\n",
    "        fields = np.array([F, G])\n",
    "    return fields"
   ],
   "outputs": [],
   "execution_count": 110
  },
  {
   "metadata": {
    "ExecuteTime": {
     "end_time": "2025-07-08T15:59:23.999452Z",
     "start_time": "2025-07-08T15:59:23.735671Z"
    }
   },
   "cell_type": "code",
   "source": [
    "# DEFINICIONES PRELIMINARES\n",
    "eq = \"PT_waveguide\"\n",
    "t_rate = 1\n",
    "\n",
    "# PARAMETROS (GAMMA = POTENCIAL, K = ACOPLE, ALPHA = GAIN - LOSS)\n",
    "\n",
    "gamma = 10\n",
    "k = 1.0\n",
    "alpha = 0.0\n",
    "\n",
    "# DEFINICIÓN DE GRILLA TEMPORAL, ESPACIAL SE DEFINE COMO ARRAY CERO POR COMO FUNCIONA EL CODIGO\n",
    "[tmin, tmax, dt] = [0, 1000, 0.025]\n",
    "t_grid = np.arange(tmin, tmax + dt, dt)         # TEMPORAL GRID DEFINITION\n",
    "x_grid = np.array([0])           # SPATIAL GRID DEFINITION\n",
    "T = tmax\n",
    "Nt = t_grid.shape[0]\n",
    "Xs = np.arange(0.8, 1.0, 0.025)\n",
    "for x in Xs:\n",
    "    # PARAMETROS INICIALES (P = CANTIDAD CONSERVADA, X = PORCENTAJE DE INFORMACIÓN INICIAL EN DIMERO 2)\n",
    "\n",
    "    P = 18                # (Vicencio & Clerc) FIG 1A, B, C, D: P = 0.1, 10, 18, 30\n",
    "\n",
    "    # CONDICIONES INICIALES EN TERMINOS DE P Y X\n",
    "    U_init = np.sqrt(P * (1 - x))\n",
    "    V_init = np.sqrt(P * x)\n",
    "\n",
    "    # EMPAQUETAMIENTO DE PARAMETROS PARA SIMULACIÓN\n",
    "    operators = [0]\n",
    "    fields_init = [U_init, V_init]\n",
    "    grids = [t_grid, x_grid, 0]\n",
    "    parameters_np = np.array([k, gamma, alpha])\n",
    "\n",
    "    # SIMULACIÓN NUMERICA\n",
    "    final_fields, fields_history, time_grid = RK4_FD(eq, fields_init, parameters_np, grids, dt, Nt, operators, t_rate)      #NUMERICAL SIMULATION\n",
    "\n",
    "    # REOBTENIENDO DATOS DE SIMULACIÓN\n",
    "    U = np.array(fields_history)[:, 0]\n",
    "    V = np.array(fields_history)[:, 1]\n",
    "    lightness = 1\n",
    "    U_light = U[0::lightness]\n",
    "    V_light = V[0::lightness]\n",
    "    t_light = np.array(time_grid[0::lightness])\n",
    "    dx = -2 * np.imag(U_light * np.conjugate(V_light)) / P\n",
    "    P1 = np.abs(U_light) ** 2\n",
    "    P2 = np.abs(V_light) ** 2\n",
    "    x_ne = P2 / P\n",
    "    x_dyn = 1 + x_ne\n",
    "    plt.plot(x_dyn, dx, color=\"k\", lw=0.5)\n",
    "    plt.xlabel(r\"$x$\")\n",
    "    plt.ylabel(r\"$dx$\")\n",
    "plt.show()"
   ],
   "id": "4a3a152620d2bd42",
   "outputs": [
    {
     "ename": "NameError",
     "evalue": "name 'np' is not defined",
     "output_type": "error",
     "traceback": [
      "\u001B[1;31m---------------------------------------------------------------------------\u001B[0m",
      "\u001B[1;31mNameError\u001B[0m                                 Traceback (most recent call last)",
      "Cell \u001B[1;32mIn[1], line 13\u001B[0m\n\u001B[0;32m     11\u001B[0m \u001B[38;5;66;03m# DEFINICIÓN DE GRILLA TEMPORAL, ESPACIAL SE DEFINE COMO ARRAY CERO POR COMO FUNCIONA EL CODIGO\u001B[39;00m\n\u001B[0;32m     12\u001B[0m [tmin, tmax, dt] \u001B[38;5;241m=\u001B[39m [\u001B[38;5;241m0\u001B[39m, \u001B[38;5;241m1000\u001B[39m, \u001B[38;5;241m0.025\u001B[39m]\n\u001B[1;32m---> 13\u001B[0m t_grid \u001B[38;5;241m=\u001B[39m \u001B[43mnp\u001B[49m\u001B[38;5;241m.\u001B[39marange(tmin, tmax \u001B[38;5;241m+\u001B[39m dt, dt)         \u001B[38;5;66;03m# TEMPORAL GRID DEFINITION\u001B[39;00m\n\u001B[0;32m     14\u001B[0m x_grid \u001B[38;5;241m=\u001B[39m np\u001B[38;5;241m.\u001B[39marray([\u001B[38;5;241m0\u001B[39m])           \u001B[38;5;66;03m# SPATIAL GRID DEFINITION\u001B[39;00m\n\u001B[0;32m     15\u001B[0m T \u001B[38;5;241m=\u001B[39m tmax\n",
      "\u001B[1;31mNameError\u001B[0m: name 'np' is not defined"
     ]
    }
   ],
   "execution_count": 1
  },
  {
   "metadata": {
    "ExecuteTime": {
     "end_time": "2025-05-20T01:51:21.332185Z",
     "start_time": "2025-05-20T01:51:21.206565Z"
    }
   },
   "cell_type": "code",
   "source": [
    "############### GENERIC INITIAL AND FINAL TIME ###############\n",
    "t_init = 0\n",
    "t_final = 1000\n",
    "i_0 = np.argmin(np.abs(t_light - t_init))\n",
    "i_f = np.argmin(np.abs(t_light - t_final))\n",
    "\n",
    "############### GRAFICO DE P1, P2 Y P EN EL TIEMPO ###############\n",
    "\n",
    "fig, ax = plt.subplots(1, 1, figsize=(7, 3))\n",
    "ax.plot(t_light[i_0:i_f], P1[i_0:i_f], color='b', label=\"$|u(t)|^2$\")\n",
    "ax.plot(t_light[i_0:i_f], P2[i_0:i_f], color='r', label=\"$|v(t)|^2$\")\n",
    "ax.plot(t_light[i_0:i_f], P1[i_0:i_f] + P2[i_0:i_f], color='k', label=\"$P(t)$\")\n",
    "ax.legend(fontsize=10, loc=\"upper right\")\n",
    "ax.set_xlabel(\"$t$\", fontsize=15)\n",
    "ax.set_xlim(t_init, t_final)\n",
    "plt.show()\n",
    "\n",
    "# REPRODUCE RESULTADOS DE FIG. 4 VICENCIO + CLERC"
   ],
   "id": "3690856dfaab2098",
   "outputs": [
    {
     "data": {
      "text/plain": [
       "<Figure size 700x300 with 1 Axes>"
      ],
      "image/png": "[encoded data removed]"
     },
     "metadata": {},
     "output_type": "display_data"
    }
   ],
   "execution_count": 165
  }
 ],
 "metadata": {
  "kernelspec": {
   "display_name": "Python 3",
   "language": "python",
   "name": "python3"
  },
  "language_info": {
   "codemirror_mode": {
    "name": "ipython",
    "version": 2
   },
   "file_extension": ".py",
   "mimetype": "text/x-python",
   "name": "python",
   "nbconvert_exporter": "python",
   "pygments_lexer": "ipython2",
   "version": "2.7.6"
  }
 },
 "nbformat": 4,
 "nbformat_minor": 5
}
